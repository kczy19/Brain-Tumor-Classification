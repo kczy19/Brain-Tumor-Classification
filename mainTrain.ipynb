{
 "cells": [
  {
   "cell_type": "code",
   "execution_count": 1,
   "metadata": {},
   "outputs": [
    {
     "name": "stdout",
     "output_type": "stream",
     "text": [
      "WARNING:tensorflow:From c:\\Users\\kamal\\AppData\\Local\\Programs\\Python\\Python311\\Lib\\site-packages\\keras\\src\\losses.py:2976: The name tf.losses.sparse_softmax_cross_entropy is deprecated. Please use tf.compat.v1.losses.sparse_softmax_cross_entropy instead.\n",
      "\n"
     ]
    }
   ],
   "source": [
    "import cv2 # type: ignore\n",
    "import os\n",
    "import tensorflow as tf # type: ignore\n",
    "from tensorflow import keras # type: ignore\n",
    "from PIL import Image # type: ignore\n",
    "import numpy as np # type: ignore\n",
    "from sklearn.model_selection import train_test_split # type: ignore\n",
    "from keras.utils import normalize # type: ignore\n",
    "from keras.models import Sequential # type: ignore\n",
    "from keras.layers import Conv2D, MaxPooling2D # type: ignore\n",
    "from keras.layers import Activation, Dropout, Flatten, Dense # type: ignore\n",
    "from keras.utils import to_categorical # type: ignore"
   ]
  },
  {
   "cell_type": "code",
   "execution_count": 2,
   "metadata": {},
   "outputs": [],
   "source": [
    "no_tumor_images = os.listdir('datasets/no/')\n",
    "yes_tumor_images = os.listdir('datasets/yes/')\n",
    "dataset = []\n",
    "label = []"
   ]
  },
  {
   "cell_type": "code",
   "execution_count": 3,
   "metadata": {},
   "outputs": [],
   "source": [
    "INPUT_SIZE = 64\n",
    "\n",
    "def process_images(image_list, label_value, folder):\n",
    "    for image_name in image_list:\n",
    "        if image_name.endswith('.jpg'):\n",
    "            image = cv2.imread(f'datasets/{folder}/' + image_name)\n",
    "            image = Image.fromarray(image, 'RGB')\n",
    "            image = image.resize((INPUT_SIZE, INPUT_SIZE))\n",
    "            dataset.append(np.array(image))\n",
    "            label.append(label_value)\n",
    "\n",
    "process_images(no_tumor_images, 0, 'no')\n",
    "process_images(yes_tumor_images, 1, 'yes')\n",
    "\n",
    "dataset = np.array(dataset)\n",
    "label = np.array(label)"
   ]
  },
  {
   "cell_type": "code",
   "execution_count": 4,
   "metadata": {},
   "outputs": [],
   "source": [
    "x_train, x_test, y_train, y_test = train_test_split(dataset, label, test_size=0.3, random_state=0)\n",
    "\n",
    "x_train = normalize(x_train, axis=1) \n",
    "x_test = normalize(x_test, axis=1)\n",
    "\n",
    "y_train = to_categorical(y_train, num_classes=2) #one-hot encoding\n",
    "y_test = to_categorical(y_test, num_classes=2)"
   ]
  },
  {
   "cell_type": "code",
   "execution_count": 5,
   "metadata": {},
   "outputs": [
    {
     "name": "stdout",
     "output_type": "stream",
     "text": [
      "WARNING:tensorflow:From c:\\Users\\kamal\\AppData\\Local\\Programs\\Python\\Python311\\Lib\\site-packages\\keras\\src\\backend.py:873: The name tf.get_default_graph is deprecated. Please use tf.compat.v1.get_default_graph instead.\n",
      "\n",
      "WARNING:tensorflow:From c:\\Users\\kamal\\AppData\\Local\\Programs\\Python\\Python311\\Lib\\site-packages\\keras\\src\\layers\\pooling\\max_pooling2d.py:161: The name tf.nn.max_pool is deprecated. Please use tf.nn.max_pool2d instead.\n",
      "\n"
     ]
    }
   ],
   "source": [
    "model = Sequential()\n",
    "\n",
    "model.add(Conv2D(32, (3, 3), input_shape=(INPUT_SIZE, INPUT_SIZE, 3)))\n",
    "model.add(Activation('relu'))\n",
    "model.add(MaxPooling2D(pool_size=(2, 2)))\n",
    "\n",
    "model.add(Conv2D(32, (3, 3), kernel_initializer='he_uniform'))\n",
    "model.add(Activation('relu'))\n",
    "model.add(MaxPooling2D(pool_size=(2, 2)))\n",
    "\n",
    "model.add(Conv2D(32, (3, 3), kernel_initializer='he_uniform'))\n",
    "model.add(Activation('relu'))\n",
    "model.add(MaxPooling2D(pool_size=(2, 2)))\n",
    "\n",
    "model.add(Conv2D(64, (3, 3), kernel_initializer='he_uniform'))\n",
    "model.add(Activation('relu'))\n",
    "model.add(MaxPooling2D(pool_size=(2, 2)))\n",
    "\n",
    "model.add(Flatten())\n",
    "model.add(Dense(64))\n",
    "model.add(Activation('relu'))\n",
    "model.add(Dropout(0.5))\n",
    "model.add(Dense(2))\n",
    "model.add(Activation('softmax'))"
   ]
  },
  {
   "cell_type": "code",
   "execution_count": 6,
   "metadata": {},
   "outputs": [
    {
     "name": "stdout",
     "output_type": "stream",
     "text": [
      "WARNING:tensorflow:From c:\\Users\\kamal\\AppData\\Local\\Programs\\Python\\Python311\\Lib\\site-packages\\keras\\src\\optimizers\\__init__.py:309: The name tf.train.Optimizer is deprecated. Please use tf.compat.v1.train.Optimizer instead.\n",
      "\n",
      "Epoch 1/25\n",
      "WARNING:tensorflow:From c:\\Users\\kamal\\AppData\\Local\\Programs\\Python\\Python311\\Lib\\site-packages\\keras\\src\\utils\\tf_utils.py:492: The name tf.ragged.RaggedTensorValue is deprecated. Please use tf.compat.v1.ragged.RaggedTensorValue instead.\n",
      "\n",
      "WARNING:tensorflow:From c:\\Users\\kamal\\AppData\\Local\\Programs\\Python\\Python311\\Lib\\site-packages\\keras\\src\\engine\\base_layer_utils.py:384: The name tf.executing_eagerly_outside_functions is deprecated. Please use tf.compat.v1.executing_eagerly_outside_functions instead.\n",
      "\n",
      "8/8 [==============================] - 2s 46ms/step - loss: 0.6814 - accuracy: 0.5714 - val_loss: 0.7138 - val_accuracy: 0.4615\n",
      "Epoch 2/25\n",
      "8/8 [==============================] - 0s 19ms/step - loss: 0.7030 - accuracy: 0.5294 - val_loss: 0.6754 - val_accuracy: 0.5192\n",
      "Epoch 3/25\n",
      "8/8 [==============================] - 0s 18ms/step - loss: 0.6782 - accuracy: 0.5462 - val_loss: 0.6700 - val_accuracy: 0.5769\n",
      "Epoch 4/25\n",
      "8/8 [==============================] - 0s 18ms/step - loss: 0.6677 - accuracy: 0.5546 - val_loss: 0.6690 - val_accuracy: 0.4615\n",
      "Epoch 5/25\n",
      "8/8 [==============================] - 0s 18ms/step - loss: 0.6671 - accuracy: 0.5546 - val_loss: 0.6529 - val_accuracy: 0.5385\n",
      "Epoch 6/25\n",
      "8/8 [==============================] - 0s 30ms/step - loss: 0.6420 - accuracy: 0.6134 - val_loss: 0.6407 - val_accuracy: 0.5385\n",
      "Epoch 7/25\n",
      "8/8 [==============================] - 0s 19ms/step - loss: 0.6345 - accuracy: 0.5966 - val_loss: 0.6111 - val_accuracy: 0.7692\n",
      "Epoch 8/25\n",
      "8/8 [==============================] - 0s 19ms/step - loss: 0.6217 - accuracy: 0.6975 - val_loss: 0.5788 - val_accuracy: 0.7692\n",
      "Epoch 9/25\n",
      "8/8 [==============================] - 0s 23ms/step - loss: 0.5919 - accuracy: 0.7059 - val_loss: 0.5325 - val_accuracy: 0.8269\n",
      "Epoch 10/25\n",
      "8/8 [==============================] - 0s 26ms/step - loss: 0.5615 - accuracy: 0.7059 - val_loss: 0.5078 - val_accuracy: 0.8269\n",
      "Epoch 11/25\n",
      "8/8 [==============================] - 0s 31ms/step - loss: 0.5323 - accuracy: 0.7479 - val_loss: 0.4845 - val_accuracy: 0.8077\n",
      "Epoch 12/25\n",
      "8/8 [==============================] - 0s 26ms/step - loss: 0.5613 - accuracy: 0.6807 - val_loss: 0.4804 - val_accuracy: 0.8077\n",
      "Epoch 13/25\n",
      "8/8 [==============================] - 0s 24ms/step - loss: 0.4903 - accuracy: 0.7563 - val_loss: 0.4523 - val_accuracy: 0.8462\n",
      "Epoch 14/25\n",
      "8/8 [==============================] - 0s 20ms/step - loss: 0.4779 - accuracy: 0.7647 - val_loss: 0.4382 - val_accuracy: 0.8269\n",
      "Epoch 15/25\n",
      "8/8 [==============================] - 0s 24ms/step - loss: 0.4595 - accuracy: 0.7815 - val_loss: 0.4279 - val_accuracy: 0.8269\n",
      "Epoch 16/25\n",
      "8/8 [==============================] - 0s 29ms/step - loss: 0.4548 - accuracy: 0.7563 - val_loss: 0.4131 - val_accuracy: 0.8269\n",
      "Epoch 17/25\n",
      "8/8 [==============================] - 0s 23ms/step - loss: 0.3907 - accuracy: 0.8571 - val_loss: 0.4286 - val_accuracy: 0.8269\n",
      "Epoch 18/25\n",
      "8/8 [==============================] - 0s 20ms/step - loss: 0.3808 - accuracy: 0.8319 - val_loss: 0.4096 - val_accuracy: 0.8462\n",
      "Epoch 19/25\n",
      "8/8 [==============================] - 0s 24ms/step - loss: 0.3354 - accuracy: 0.8739 - val_loss: 0.3986 - val_accuracy: 0.8654\n",
      "Epoch 20/25\n",
      "8/8 [==============================] - 0s 24ms/step - loss: 0.3232 - accuracy: 0.8655 - val_loss: 0.3749 - val_accuracy: 0.8077\n",
      "Epoch 21/25\n",
      "8/8 [==============================] - 0s 25ms/step - loss: 0.2923 - accuracy: 0.8739 - val_loss: 0.3842 - val_accuracy: 0.8462\n",
      "Epoch 22/25\n",
      "8/8 [==============================] - 0s 24ms/step - loss: 0.2526 - accuracy: 0.8992 - val_loss: 0.4063 - val_accuracy: 0.8654\n",
      "Epoch 23/25\n",
      "8/8 [==============================] - 0s 25ms/step - loss: 0.2276 - accuracy: 0.9328 - val_loss: 0.3883 - val_accuracy: 0.8269\n",
      "Epoch 24/25\n",
      "8/8 [==============================] - 0s 19ms/step - loss: 0.2002 - accuracy: 0.9412 - val_loss: 0.3925 - val_accuracy: 0.8269\n",
      "Epoch 25/25\n",
      "8/8 [==============================] - 0s 20ms/step - loss: 0.1877 - accuracy: 0.9244 - val_loss: 0.4059 - val_accuracy: 0.8077\n"
     ]
    },
    {
     "name": "stderr",
     "output_type": "stream",
     "text": [
      "c:\\Users\\kamal\\AppData\\Local\\Programs\\Python\\Python311\\Lib\\site-packages\\keras\\src\\engine\\training.py:3103: UserWarning: You are saving your model as an HDF5 file via `model.save()`. This file format is considered legacy. We recommend using instead the native Keras format, e.g. `model.save('my_model.keras')`.\n",
      "  saving_api.save_model(\n"
     ]
    }
   ],
   "source": [
    "model.compile(loss='categorical_crossentropy', optimizer='adam', metrics=['accuracy'])\n",
    "\n",
    "model.fit(x_train, y_train,\n",
    "          batch_size=16,\n",
    "          verbose=1, epochs=25,\n",
    "          validation_data=(x_test, y_test),\n",
    "          shuffle=False)\n",
    "\n",
    "model.save('BrainTumor10EpochsCategorical.h5')"
   ]
  },
  {
   "cell_type": "code",
   "execution_count": 7,
   "metadata": {},
   "outputs": [
    {
     "name": "stdout",
     "output_type": "stream",
     "text": [
      "2/2 [==============================] - 0s 10ms/step - loss: 0.4059 - accuracy: 0.8077\n",
      "Test accuracy: 80%\n"
     ]
    }
   ],
   "source": [
    "evalu = model.evaluate(x_test, y_test)\n",
    "print(f'Test accuracy: {int(evalu[1]*100)}%')"
   ]
  }
 ],
 "metadata": {
  "kernelspec": {
   "display_name": "Python 3",
   "language": "python",
   "name": "python3"
  },
  "language_info": {
   "codemirror_mode": {
    "name": "ipython",
    "version": 3
   },
   "file_extension": ".py",
   "mimetype": "text/x-python",
   "name": "python",
   "nbconvert_exporter": "python",
   "pygments_lexer": "ipython3",
   "version": "3.11.7"
  }
 },
 "nbformat": 4,
 "nbformat_minor": 2
}
